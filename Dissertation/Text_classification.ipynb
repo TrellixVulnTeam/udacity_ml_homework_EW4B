{
 "cells": [
  {
   "cell_type": "code",
   "execution_count": 1,
   "metadata": {
    "collapsed": true
   },
   "outputs": [],
   "source": [
    "import numpy as np\n",
    "from sklearn.datasets import fetch_20newsgroups\n",
    "from IPython.display import display\n",
    "%matplotlib inline"
   ]
  },
  {
   "cell_type": "code",
   "execution_count": 2,
   "metadata": {},
   "outputs": [
    {
     "name": "stdout",
     "output_type": "stream",
     "text": [
      "From: alung@megatest.com (Aaron Lung)\n",
      "Subject: Re: Changing oil by self.rist, another dealer service scam...\n",
      "Organization: Megatest Corporation\n",
      "Lines: 25\n",
      "\n",
      "In article <1qk5m9$pbe@news.ysu.edu> ak296@yfn.ysu.edu (John R. Daker) writes:\n",
      ">>\n",
      ">>I was worried about someone stealing my oil once also. I finally \n",
      ">>decided to just have my drain plug welded shut. It works great !\n",
      ">>I figure that when I add three or four quarts when the oil light\n",
      ">>comes on every month or so that it's just as good or better than\n",
      ">>the old wives tale of changing the oil AND filter every 3000 miles.\n",
      ">>Works for me, I must say. \n",
      ">>\n",
      ">\n",
      ">I did the same thing to my drain plug for the same reasons.  I was wondering\n",
      ">how you filled your crankcase though as I welded my hood shut also out of fear\n",
      ">that somebody might steal my air-filter.\n",
      "\n",
      "Oh come on, Silly, all you have to do is cut a hole in your hood and \n",
      "put a tube there so you can get to the oil fill hole.  What do you\n",
      "think all those big air intake things are for on those hot-rod cars?\n",
      "They're just for looks only...little does anyone know, they provide\n",
      "access to the oil-fill hole.\n",
      "\n",
      "Well, over where we live, we have problems with vandals stealing \n",
      "people's wheels.  Those locking nuts didn't stop them.  So to be\n",
      "safe and sure, I welded the lug nuts to my wheels together.  It\n",
      "works, serious!  I haven't had my wheels stolen yet!\n",
      ".\n",
      "\n"
     ]
    }
   ],
   "source": [
    "categories = ['comp.graphics', 'rec.autos','sci.electronics','sci.med','talk.politics.guns','talk.politics.mideast']\n",
    "train = fetch_20newsgroups(random_state=1,\n",
    "                           subset='train',\n",
    "                           categories=categories)\n",
    "test = fetch_20newsgroups(random_state=1,\n",
    "                           subset='test',\n",
    "                           categories=categories)\n",
    "print(train.data[0])"
   ]
  },
  {
   "cell_type": "code",
   "execution_count": 3,
   "metadata": {
    "scrolled": true
   },
   "outputs": [
    {
     "name": "stdout",
     "output_type": "stream",
     "text": [
      "comp.graphics have 584 train data, and 389 test data.\n",
      "rec.autos have 594 train data, and 396 test data.\n",
      "sci.electronics have 591 train data, and 393 test data.\n",
      "sci.med have 594 train data, and 396 test data.\n",
      "talk.politics.guns have 546 train data, and 364 test data.\n",
      "talk.politics.mideast have 564 train data, and 376 test data.\n"
     ]
    }
   ],
   "source": [
    "#统计数据集\n",
    "cat_number = len(categories)\n",
    "train_data_count = [0]*cat_number\n",
    "test_data_count = [0]*cat_number\n",
    "for target in train.target:\n",
    "    train_data_count[target] += 1 \n",
    "for target in test.target:\n",
    "    test_data_count[target] += 1     \n",
    "for i in range(0,cat_number):\n",
    "    print(train.target_names[i]+\" have \"+ str(train_data_count[i]) + \" train data, and \"+ str(test_data_count[i])+ \" test data.\")\n"
   ]
  },
  {
   "cell_type": "code",
   "execution_count": 4,
   "metadata": {},
   "outputs": [
    {
     "data": {
      "text/plain": [
       "<matplotlib.axes._subplots.AxesSubplot at 0xe129780>"
      ]
     },
     "execution_count": 4,
     "metadata": {},
     "output_type": "execute_result"
    },
    {
     "data": {
      "image/png": "[encoded data removed]",
      "text/plain": [
       "<matplotlib.figure.Figure at 0x161df908>"
      ]
     },
     "metadata": {},
     "output_type": "display_data"
    }
   ],
   "source": [
    "#图表展示\n",
    "import matplotlib.pyplot as plt\n",
    "import pandas as pd\n",
    "data = { 'train':train_data_count,\n",
    "         'test':test_data_count }\n",
    "df = pd.DataFrame(data)\n",
    "df.index = train.target_names\n",
    "df.plot(kind='bar')"
   ]
  },
  {
   "cell_type": "code",
   "execution_count": 5,
   "metadata": {
    "scrolled": true
   },
   "outputs": [
    {
     "name": "stderr",
     "output_type": "stream",
     "text": [
      "C:\\Users\\xzmh2o\\Anaconda3\\envs\\py2\\lib\\site-packages\\sklearn\\feature_extraction\\hashing.py:94: DeprecationWarning: the option non_negative=True has been deprecated in 0.19 and will be removed in version 0.21.\n",
      "  \" in version 0.21.\", DeprecationWarning)\n",
      "C:\\Users\\xzmh2o\\Anaconda3\\envs\\py2\\lib\\site-packages\\sklearn\\feature_extraction\\hashing.py:94: DeprecationWarning: the option non_negative=True has been deprecated in 0.19 and will be removed in version 0.21.\n",
      "  \" in version 0.21.\", DeprecationWarning)\n",
      "C:\\Users\\xzmh2o\\Anaconda3\\envs\\py2\\lib\\site-packages\\sklearn\\feature_extraction\\hashing.py:94: DeprecationWarning: the option non_negative=True has been deprecated in 0.19 and will be removed in version 0.21.\n",
      "  \" in version 0.21.\", DeprecationWarning)\n"
     ]
    },
    {
     "name": "stdout",
     "output_type": "stream",
     "text": [
      "(3473, 10000)\n",
      "(2314, 10000)\n"
     ]
    }
   ],
   "source": [
    "# 抽取特征\n",
    "from sklearn.feature_extraction.text import HashingVectorizer  \n",
    "vectorizer = HashingVectorizer(stop_words = 'english',n_features = 10000,non_negative=True)  \n",
    "train_data = vectorizer.fit_transform(train.data)  \n",
    "test_data = vectorizer.transform(test.data)\n",
    "print(train_data.shape)\n",
    "print(test_data.shape)"
   ]
  },
  {
   "cell_type": "code",
   "execution_count": 7,
   "metadata": {},
   "outputs": [
    {
     "name": "stdout",
     "output_type": "stream",
     "text": [
      "svc训练时间为17.8210000992\n",
      "svc预测时间为10.3409998417\n",
      "                       precision    recall  f1-score   support\n",
      "\n",
      "        comp.graphics       0.86      0.87      0.86       389\n",
      "            rec.autos       0.89      0.90      0.90       396\n",
      "      sci.electronics       0.75      0.88      0.81       393\n",
      "              sci.med       0.87      0.80      0.84       396\n",
      "   talk.politics.guns       0.94      0.93      0.93       364\n",
      "talk.politics.mideast       0.98      0.87      0.92       376\n",
      "\n",
      "          avg / total       0.88      0.87      0.88      2314\n",
      "\n",
      "线性SVC训练时间为0.276999950409\n",
      "线性SVC预测时间为0.00500011444092\n",
      "                       precision    recall  f1-score   support\n",
      "\n",
      "        comp.graphics       0.86      0.89      0.88       389\n",
      "            rec.autos       0.91      0.92      0.92       396\n",
      "      sci.electronics       0.81      0.87      0.84       393\n",
      "              sci.med       0.90      0.84      0.87       396\n",
      "   talk.politics.guns       0.93      0.95      0.94       364\n",
      "talk.politics.mideast       0.97      0.91      0.94       376\n",
      "\n",
      "          avg / total       0.90      0.90      0.90      2314\n",
      "\n"
     ]
    }
   ],
   "source": [
    "# 训练基准模型并测试性能\n",
    "from sklearn.svm import SVC\n",
    "from sklearn.svm import LinearSVC\n",
    "from sklearn.metrics import classification_report\n",
    "import time\n",
    "\n",
    "clf_lsv = SVC(kernel='linear')\n",
    "t = time.time()\n",
    "clf_lsv.fit(train_data,train.target)\n",
    "print(\"svc训练时间为\" + str(time.time()-t))\n",
    "t = time.time()\n",
    "test_predict = clf_lsv.predict(test_data)\n",
    "print(\"svc预测时间为\" + str(time.time()-t))\n",
    "print(classification_report(test.target, test_predict,target_names=test.target_names))\n",
    "lclf = LinearSVC()\n",
    "t = time.time()\n",
    "lclf.fit(train_data,train.target)\n",
    "print(\"线性SVC训练时间为\" + str(time.time()-t))\n",
    "t = time.time()\n",
    "test_predict = lclf.predict(test_data)\n",
    "print(\"线性SVC预测时间为\" + str(time.time()-t))\n",
    "print(classification_report(test.target, test_predict,target_names=test.target_names))"
   ]
  },
  {
   "cell_type": "code",
   "execution_count": 9,
   "metadata": {
    "collapsed": true
   },
   "outputs": [],
   "source": [
    "# 为创建词向量做预处理\n",
    "import warnings\n",
    "warnings.filterwarnings(action='ignore', category=UserWarning, module='gensim')\n",
    "from gensim.parsing.preprocessing import STOPWORDS\n",
    "import  re\n",
    "processed_train = []\n",
    "processed_test = []\n",
    "for document in train.data:\n",
    "    document = document.lower()\n",
    "    words = re.sub(\"\\W\",\" \",document).split()\n",
    "    for i in range(0,len(words)):\n",
    "        words[i] = words[i].replace(\"_\", \"\")\n",
    "    words = [w for w in words if w not in STOPWORDS and len(w) > 1 and any(char.isalpha() for char in w)]\n",
    "    processed_train.append(words)\n",
    "for document in test.data:\n",
    "    document = document.lower()\n",
    "    words = re.sub(\"\\W\",\" \",document).split()\n",
    "    for i in range(0,len(words)):\n",
    "        words[i] = words[i].replace(\"_\", \"\")\n",
    "    words = [w for w in words if w not in STOPWORDS and len(w) > 1 and any(char.isalpha() for char in w)]\n",
    "    processed_test.append(words)"
   ]
  },
  {
   "cell_type": "code",
   "execution_count": 10,
   "metadata": {
    "collapsed": true
   },
   "outputs": [],
   "source": [
    "# 训练词向量模型并保存\n",
    "from gensim.models import Word2Vec \n",
    "import os\n",
    "size = 100\n",
    "name = './myword2vec.model'\n",
    "if os.path.exists(name):\n",
    "    model = Word2Vec.load('./myword2vec.model') \n",
    "else:\n",
    "    model = Word2Vec(processed_train,sg=1,min_count=3)\n",
    "    model.save('./myword2vec.model')\n",
    "word_vectors = model.wv"
   ]
  },
  {
   "cell_type": "code",
   "execution_count": 11,
   "metadata": {
    "collapsed": true
   },
   "outputs": [],
   "source": [
    "#使用简单的求和方式获取文档向量\n",
    "from sklearn import preprocessing \n",
    "docs_vec_test = []\n",
    "def get_simple_vec_data(processed):\n",
    "    result = []\n",
    "    for words in processed:\n",
    "        doc_vec = np.array([0] * size)\n",
    "        for word in words:\n",
    "            length = 0\n",
    "            if word in word_vectors:\n",
    "                length += 1\n",
    "                doc_vec =doc_vec + word_vectors[word]\n",
    "                doc_vec = doc_vec/float(length)\n",
    "        result.append(doc_vec)\n",
    "    return np.array(result)\n",
    "docs_vec_train = get_simple_vec_data(processed_train) \n",
    "docs_vec_test = get_simple_vec_data(processed_test)"
   ]
  },
  {
   "cell_type": "code",
   "execution_count": 13,
   "metadata": {},
   "outputs": [
    {
     "name": "stdout",
     "output_type": "stream",
     "text": [
      "                       precision    recall  f1-score   support\n",
      "\n",
      "        comp.graphics       0.77      0.87      0.82       389\n",
      "            rec.autos       0.90      0.80      0.85       396\n",
      "      sci.electronics       0.74      0.73      0.73       393\n",
      "              sci.med       0.83      0.88      0.86       396\n",
      "   talk.politics.guns       0.98      0.88      0.93       364\n",
      "talk.politics.mideast       0.93      0.96      0.94       376\n",
      "\n",
      "          avg / total       0.86      0.85      0.85      2314\n",
      "\n"
     ]
    }
   ],
   "source": [
    "# linearSVC的效果不好\n",
    "lclf = LinearSVC()\n",
    "lclf.fit(docs_vec_train,train.target)\n",
    "test_lsv_predict = lclf.predict(docs_vec_test)\n",
    "print(classification_report(test.target, test_lsv_predict,target_names=test.target_names))"
   ]
  },
  {
   "cell_type": "code",
   "execution_count": 15,
   "metadata": {},
   "outputs": [
    {
     "name": "stdout",
     "output_type": "stream",
     "text": [
      "{'C': 0.01}\n"
     ]
    }
   ],
   "source": [
    "#搜索参数\n",
    "from sklearn.model_selection import KFold\n",
    "from sklearn.model_selection import GridSearchCV\n",
    "from sklearn.metrics import make_scorer\n",
    "from sklearn.metrics import f1_score\n",
    "\n",
    "cross_validator = KFold(n_splits=6)\n",
    "parameters = {'C':[0.01,0.05,0.1,0.5,1,2]}\n",
    "clf = LinearSVC()\n",
    "scorer = make_scorer(f1_score,average='macro')\n",
    "grid_obj = GridSearchCV(clf, parameters, cv = cross_validator, scoring = scorer)\n",
    "grid_obj = grid_obj.fit(docs_vec_train, train.target)\n",
    "print(grid_obj.best_params_)"
   ]
  },
  {
   "cell_type": "code",
   "execution_count": 17,
   "metadata": {
    "scrolled": false
   },
   "outputs": [
    {
     "name": "stdout",
     "output_type": "stream",
     "text": [
      "训练集结果\n",
      "                       precision    recall  f1-score   support\n",
      "\n",
      "        comp.graphics       0.92      0.91      0.91       584\n",
      "            rec.autos       0.91      0.93      0.92       594\n",
      "      sci.electronics       0.89      0.86      0.87       591\n",
      "              sci.med       0.93      0.95      0.94       594\n",
      "   talk.politics.guns       0.96      0.96      0.96       546\n",
      "talk.politics.mideast       0.99      0.99      0.99       564\n",
      "\n",
      "          avg / total       0.93      0.93      0.93      3473\n",
      "\n",
      "测试集结果\n",
      "                       precision    recall  f1-score   support\n",
      "\n",
      "        comp.graphics       0.82      0.86      0.84       389\n",
      "            rec.autos       0.90      0.88      0.89       396\n",
      "      sci.electronics       0.78      0.73      0.76       393\n",
      "              sci.med       0.85      0.90      0.87       396\n",
      "   talk.politics.guns       0.93      0.93      0.93       364\n",
      "talk.politics.mideast       0.96      0.95      0.96       376\n",
      "\n",
      "          avg / total       0.87      0.87      0.87      2314\n",
      "\n"
     ]
    }
   ],
   "source": [
    "#训练分类模型并测试性能\n",
    "clf_l = grid_obj.best_estimator_\n",
    "train_vec_predict = clf_l.predict(docs_vec_train)\n",
    "print(\"训练集结果\")\n",
    "print(classification_report(train.target, train_vec_predict,target_names=test.target_names))\n",
    "test_vec_predict = clf_l.predict(docs_vec_test)\n",
    "print(\"测试集结果\")\n",
    "print(classification_report(test.target, test_vec_predict,target_names=test.target_names))"
   ]
  },
  {
   "cell_type": "code",
   "execution_count": 19,
   "metadata": {},
   "outputs": [
    {
     "name": "stdout",
     "output_type": "stream",
     "text": [
      "已统计1000个词\n",
      "已统计2000个词\n",
      "已统计3000个词\n",
      "已统计4000个词\n",
      "已统计5000个词\n",
      "已统计6000个词\n",
      "已统计7000个词\n",
      "已统计8000个词\n",
      "已统计9000个词\n",
      "已统计10000个词\n",
      "已统计11000个词\n",
      "已统计12000个词\n",
      "已统计13000个词\n",
      "已统计14000个词\n",
      "已统计15000个词\n",
      "已统计16000个词\n",
      "已统计17000个词\n",
      "已统计18000个词\n",
      "已统计19000个词\n",
      "已统计20000个词\n"
     ]
    }
   ],
   "source": [
    "# 计算idf字典\n",
    "idf_count_dic = {}\n",
    "# 计算权重字典\n",
    "use_count_dic = {}\n",
    "i = 0\n",
    "for key in word_vectors.vocab:\n",
    "    i += 1\n",
    "    if i % 1000 == 0:\n",
    "        print(\"已统计\"+str(i)+\"个词\")\n",
    "    count = 0\n",
    "    for j in range(0,len(processed_train)):\n",
    "        document = processed_train[j]\n",
    "        if key in document:\n",
    "            count += 1\n",
    "            if key in use_count_dic:\n",
    "                use_count_dic[key][train.target[j]] += 1\n",
    "            else:\n",
    "                use_count_dic[key] = [0]* len(categories)\n",
    "                use_count_dic[key][train.target[j]] = 1\n",
    "    idf_count_dic[key] = count\n"
   ]
  },
  {
   "cell_type": "code",
   "execution_count": 20,
   "metadata": {
    "collapsed": true,
    "scrolled": true
   },
   "outputs": [],
   "source": [
    "#结合idf获取文档向量\n",
    "train_ducoment_number = len(processed_train)\n",
    "def get_idf_vec_data(document_words):\n",
    "    result = []\n",
    "    for i in range(0,len(document_words)):\n",
    "        doc_vec = np.array([0] * size,dtype='float64')\n",
    "        factor = 0\n",
    "        for word in document_words[i]:\n",
    "            if word in idf_count_dic:\n",
    "                idf = np.log10(train_ducoment_number/float(idf_count_dic[word]+1))\n",
    "                doc_vec += idf * word_vectors[word]\n",
    "                factor += np.square(idf) \n",
    "        result.append((doc_vec/np.sqrt(factor)).tolist())\n",
    "    return  np.array(result)\n",
    "\n",
    "docs_vec_train2 = get_idf_vec_data(processed_train)  \n",
    "docs_vec_test2 = get_idf_vec_data(processed_test) "
   ]
  },
  {
   "cell_type": "code",
   "execution_count": 23,
   "metadata": {},
   "outputs": [
    {
     "name": "stdout",
     "output_type": "stream",
     "text": [
      "{'C': 2}\n"
     ]
    }
   ],
   "source": [
    "#搜索参数\n",
    "from sklearn.model_selection import KFold\n",
    "from sklearn.model_selection import GridSearchCV\n",
    "from sklearn.metrics import make_scorer\n",
    "from sklearn.metrics import f1_score\n",
    "\n",
    "cross_validator = KFold(n_splits=6)\n",
    "parameters = {'C':[0.01,0.1,0.5,1,2,3]}\n",
    "clf = LinearSVC()\n",
    "scorer = make_scorer(f1_score,average='macro')\n",
    "grid_obj = GridSearchCV(clf, parameters, cv = cross_validator, scoring = scorer)\n",
    "grid_obj = grid_obj.fit(docs_vec_train2, train.target)\n",
    "print(grid_obj.best_params_)"
   ]
  },
  {
   "cell_type": "code",
   "execution_count": 22,
   "metadata": {},
   "outputs": [
    {
     "name": "stdout",
     "output_type": "stream",
     "text": [
      "训练集结果\n",
      "                       precision    recall  f1-score   support\n",
      "\n",
      "        comp.graphics       0.92      0.94      0.93       584\n",
      "            rec.autos       0.93      0.94      0.93       594\n",
      "      sci.electronics       0.89      0.86      0.88       591\n",
      "              sci.med       0.96      0.95      0.96       594\n",
      "   talk.politics.guns       0.98      0.97      0.97       546\n",
      "talk.politics.mideast       0.98      0.99      0.99       564\n",
      "\n",
      "          avg / total       0.94      0.94      0.94      3473\n",
      "\n",
      "测试集结果\n",
      "                       precision    recall  f1-score   support\n",
      "\n",
      "        comp.graphics       0.85      0.90      0.87       389\n",
      "            rec.autos       0.91      0.92      0.91       396\n",
      "      sci.electronics       0.84      0.80      0.82       393\n",
      "              sci.med       0.92      0.90      0.91       396\n",
      "   talk.politics.guns       0.94      0.95      0.94       364\n",
      "talk.politics.mideast       0.97      0.96      0.96       376\n",
      "\n",
      "          avg / total       0.90      0.90      0.90      2314\n",
      "\n"
     ]
    }
   ],
   "source": [
    "#训练分类模型并测试性能\n",
    "clf_2 = grid_obj.best_estimator_\n",
    "train_vec_predict2 = clf_2.predict(docs_vec_train2)\n",
    "print(\"训练集结果\")\n",
    "print(classification_report(train.target, train_vec_predict2,target_names=test.target_names))\n",
    "test_vec_predict2 = clf_2.predict(docs_vec_test2)\n",
    "print(\"测试集结果\")\n",
    "print(classification_report(test.target, test_vec_predict2,target_names=test.target_names))"
   ]
  }
 ],
 "metadata": {
  "kernelspec": {
   "display_name": "Python 2",
   "language": "python",
   "name": "python2"
  },
  "language_info": {
   "codemirror_mode": {
    "name": "ipython",
    "version": 2
   },
   "file_extension": ".py",
   "mimetype": "text/x-python",
   "name": "python",
   "nbconvert_exporter": "python",
   "pygments_lexer": "ipython2",
   "version": "2.7.14"
  }
 },
 "nbformat": 4,
 "nbformat_minor": 2
}
